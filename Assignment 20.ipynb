{
 "cells": [
  {
   "cell_type": "code",
   "execution_count": 1,
   "id": "67cd4c40",
   "metadata": {},
   "outputs": [],
   "source": [
    "#1 Create a function that takes a list of strings and integers, and filters out the list so that it returns a list of integers only.\n",
    "\n",
    "filter_list1=([1, 2, 3, 'a', 'b', 4])\n",
    "filter_list2=(['A', 0, 'Edabit', 1729,'Python']) \n",
    "filter_list3=(['Nothing', 'here']) "
   ]
  },
  {
   "cell_type": "code",
   "execution_count": 2,
   "id": "1160bde4",
   "metadata": {},
   "outputs": [],
   "source": [
    "def filterint(a):\n",
    "    l=[]\n",
    "    for i in a:\n",
    "        if type(i)==int:\n",
    "            l.append(i)\n",
    "    return l"
   ]
  },
  {
   "cell_type": "code",
   "execution_count": 3,
   "id": "8f9caf91",
   "metadata": {},
   "outputs": [
    {
     "data": {
      "text/plain": [
       "[1, 2, 3, 4]"
      ]
     },
     "execution_count": 3,
     "metadata": {},
     "output_type": "execute_result"
    }
   ],
   "source": [
    "filterint(filter_list1)"
   ]
  },
  {
   "cell_type": "code",
   "execution_count": 4,
   "id": "c8674910",
   "metadata": {},
   "outputs": [
    {
     "data": {
      "text/plain": [
       "[0, 1729]"
      ]
     },
     "execution_count": 4,
     "metadata": {},
     "output_type": "execute_result"
    }
   ],
   "source": [
    "filterint(filter_list2)"
   ]
  },
  {
   "cell_type": "code",
   "execution_count": 5,
   "id": "6f1b3969",
   "metadata": {},
   "outputs": [
    {
     "data": {
      "text/plain": [
       "[]"
      ]
     },
     "execution_count": 5,
     "metadata": {},
     "output_type": "execute_result"
    }
   ],
   "source": [
    "filterint(filter_list3)"
   ]
  },
  {
   "cell_type": "code",
   "execution_count": 6,
   "id": "a2895872",
   "metadata": {},
   "outputs": [],
   "source": [
    "#2 Given a list of numbers, create a function which returns the list but with each element's index in the list added to itself. This means you add 0 to the number at index 0, add 1 to the number at index 1, etc\n",
    "\n",
    "lst=([0, 0, 0, 0, 0])"
   ]
  },
  {
   "cell_type": "code",
   "execution_count": 7,
   "id": "b64fb897",
   "metadata": {},
   "outputs": [],
   "source": [
    "def add_indexes(a):\n",
    "    for x in range(len(a)):\n",
    "        a[x] += x\n",
    "    return a\n",
    "    "
   ]
  },
  {
   "cell_type": "code",
   "execution_count": 8,
   "id": "5730c786",
   "metadata": {},
   "outputs": [
    {
     "data": {
      "text/plain": [
       "[0, 1, 2, 3, 4]"
      ]
     },
     "execution_count": 8,
     "metadata": {},
     "output_type": "execute_result"
    }
   ],
   "source": [
    "add_indexes(lst)"
   ]
  },
  {
   "cell_type": "code",
   "execution_count": 9,
   "id": "afab3d80",
   "metadata": {},
   "outputs": [],
   "source": [
    "lst2=([1, 2, 3, 4, 5])"
   ]
  },
  {
   "cell_type": "code",
   "execution_count": 10,
   "id": "291ccb0f",
   "metadata": {},
   "outputs": [
    {
     "data": {
      "text/plain": [
       "[1, 3, 5, 7, 9]"
      ]
     },
     "execution_count": 10,
     "metadata": {},
     "output_type": "execute_result"
    }
   ],
   "source": [
    "add_indexes(lst2)"
   ]
  },
  {
   "cell_type": "code",
   "execution_count": 11,
   "id": "dda6b94c",
   "metadata": {},
   "outputs": [],
   "source": [
    "lst3=([5, 4, 3, 2, 1])"
   ]
  },
  {
   "cell_type": "code",
   "execution_count": 12,
   "id": "1d739b67",
   "metadata": {},
   "outputs": [
    {
     "data": {
      "text/plain": [
       "[5, 5, 5, 5, 5]"
      ]
     },
     "execution_count": 12,
     "metadata": {},
     "output_type": "execute_result"
    }
   ],
   "source": [
    "add_indexes(lst3)"
   ]
  },
  {
   "cell_type": "code",
   "execution_count": 13,
   "id": "4c9b6011",
   "metadata": {},
   "outputs": [],
   "source": [
    "#3. Create a function that takes the height and radius of a cone as arguments and returns the volume of the cone rounded to the nearest hundredth. See the resources tab for the formula.\n",
    "\n",
    "def volume_cone():\n",
    "    r=float(input(\"Enter the radius:\"))\n",
    "    h=float(input('Enter the radius:'))\n",
    "    volume=(3.14156*r*r*h)/3\n",
    "    print(\"Volume of cone is\", round(volume))"
   ]
  },
  {
   "cell_type": "code",
   "execution_count": 14,
   "id": "7de5a9cc",
   "metadata": {},
   "outputs": [],
   "source": [
    "#4. This Triangular Number Sequence is generated from a pattern of dots that form a triangle.\n",
    "\n",
    "#The first 5 numbers of the sequence, or dots, are:\n",
    "#1, 3, 6, 10, 15\n",
    "\n",
    "#This means that the first triangle has just one dot, the second one has three dots, the third one has 6 dots and so on.\n",
    "\n",
    "#Write a function that gives the number of dots with its corresponding triangle number of the sequence."
   ]
  },
  {
   "cell_type": "code",
   "execution_count": 15,
   "id": "0d226557",
   "metadata": {},
   "outputs": [],
   "source": [
    "def triangle(n):\n",
    "    print(f'Output ➞ {int((n)*((n+1)/2))}')"
   ]
  },
  {
   "cell_type": "code",
   "execution_count": 16,
   "id": "9a841fe7",
   "metadata": {},
   "outputs": [],
   "source": [
    "#5 Create a function that takes a list of numbers between 1 and 10 (excluding one number) and returns the missing number.\n",
    "\n",
    "def missing_num(n):\n",
    "    for i in range(1,11):\n",
    "        if i not in n:\n",
    "            print(f'{n} ➞ {i}')"
   ]
  },
  {
   "cell_type": "code",
   "execution_count": 17,
   "id": "957e3836",
   "metadata": {},
   "outputs": [],
   "source": [
    "lst=([1, 2, 3, 4, 6, 7, 8, 9, 10])"
   ]
  },
  {
   "cell_type": "code",
   "execution_count": 18,
   "id": "cc25f357",
   "metadata": {},
   "outputs": [
    {
     "name": "stdout",
     "output_type": "stream",
     "text": [
      "[1, 2, 3, 4, 6, 7, 8, 9, 10] ➞ 5\n"
     ]
    }
   ],
   "source": [
    "missing_num(lst)"
   ]
  },
  {
   "cell_type": "code",
   "execution_count": null,
   "id": "391f4712",
   "metadata": {},
   "outputs": [],
   "source": []
  }
 ],
 "metadata": {
  "kernelspec": {
   "display_name": "Python 3 (ipykernel)",
   "language": "python",
   "name": "python3"
  },
  "language_info": {
   "codemirror_mode": {
    "name": "ipython",
    "version": 3
   },
   "file_extension": ".py",
   "mimetype": "text/x-python",
   "name": "python",
   "nbconvert_exporter": "python",
   "pygments_lexer": "ipython3",
   "version": "3.9.7"
  }
 },
 "nbformat": 4,
 "nbformat_minor": 5
}
